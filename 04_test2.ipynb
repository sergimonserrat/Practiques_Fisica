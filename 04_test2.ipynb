{
 "cells": [
  {
   "cell_type": "markdown",
   "metadata": {},
   "source": [
    "# Moviment aleatori\n",
    "\n",
    "L'exercici consisteix en generar 10 tortugues posicionades aleatòriament en una finestra de 400x400. Un cop generades i posicionades, fem que tinguin un moviment aleatori dins d'aquesta quadrícula. En cas que una de les tortugues toqui un dels límits, s'haurà de recol·locar al centre de la quadrícula. L'exercici/joc consisteix en veure quina de les 10 tortugues es la primera en contactar amb les altres 9.\n",
    "\n",
    "1.- Genereu una funció que et permeti generar les 10 tortugues. Introduiu com a paràmetre d'entrada el color de la tortuga. Com a retorn, la tortuga.\n",
    "2.- Feu una funció que crei la finestra de dimensions 400x400\n",
    "3.- Genereu una funció que col·loqui les tortugues de forma aleatòria dins la finestra\n",
    "4.-Genereu una funció que faci moure les tortugues de forma aleatòria, en qualsevol direcció i sentit.\n",
    "5.- Crea una llista associada a cada tortuga on es vagi afegint els contactes amb la resta de les tortugues. Si el contacte es fa amb una tortuga ja contactada, no s'haurà de tenir en compte i no s'afegirà. Només inclourem els nous contactes\n",
    "6.- "
   ]
  }
 ],
 "metadata": {
  "kernelspec": {
   "display_name": "Python 3",
   "language": "python",
   "name": "python3"
  },
  "language_info": {
   "codemirror_mode": {
    "name": "ipython",
    "version": 3
   },
   "file_extension": ".py",
   "mimetype": "text/x-python",
   "name": "python",
   "nbconvert_exporter": "python",
   "pygments_lexer": "ipython3",
   "version": "3.4.3"
  }
 },
 "nbformat": 4,
 "nbformat_minor": 0
}
