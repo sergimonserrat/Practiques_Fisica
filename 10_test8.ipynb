{
 "cells": [
  {
   "cell_type": "markdown",
   "metadata": {},
   "source": [
    "Volem programar un joc de daus per passar la estona. El joc consisteix en intentar endevinar el resultat de la suma de dos daus que tirarem (simularem). Partim de un credit en euros inicial que podem apostar en cada jugada. Si encertem el resultat guanyem 3 vegades el que hem apostat mentre que si no encertem perdem el que hem apostat. Has d'estructurar el codi en dos funcions mes la part principal del codi que cridara les funcions i sera el bucle principal per jugar partides. La primera funció es tiraDaus() sense arguments d'entrada i torna el resultat de la suma dels dos daus. La segona funció es aposta(credit,Daus) amb dos paràmetres d'entrada. Primer, el credit del jugador en cada moment i segón el resultat de la suma dels daus. Aquesta funció ha de demanar al jugador quan vol apostar en aquella jugada, quina és la seva predicció sobre el resultat de la suma dels daus i ha de tornar el credit resultant després de la jugada. En la part principal del codi has de cridar les funcions per fer jugades fins que el jugador no vulgui jugar mes o se li acabi el credit."
   ]
  },
  {
   "cell_type": "code",
   "execution_count": null,
   "metadata": {
    "collapsed": false
   },
   "outputs": [
    {
     "name": "stdout",
     "output_type": "stream",
     "text": [
      "6\n",
      "Quants euros vols apostar? 5\n",
      "Quin número creus que sortirà? 2\n",
      "Vols tornar a jugar?si\n",
      "si\n",
      "8\n",
      "Quants euros vols apostar? 10\n",
      "Quin número creus que sortirà? 5\n",
      "Vols tornar a jugar?si\n",
      "si\n",
      "7\n"
     ]
    }
   ],
   "source": [
    "def tiraDaus():\n",
    "    nums = np.random.randint(1,7,2)\n",
    "    return nums[0]+nums[1]\n",
    "\n",
    "def aposta(credit,Daus):\n",
    "    apostat = int(input(\"Quants euros vols apostar? \"))\n",
    "    predit = int(input(\"Quin número creus que sortirà? \"))\n",
    "    if (predit == Daus):\n",
    "        credit = credit+3*apostat\n",
    "    else:\n",
    "        credit = credit - apostat\n",
    "    return credit\n",
    "\n",
    "\n",
    "import numpy as np\n",
    "credit = 100\n",
    "\n",
    "while credit>0:\n",
    "    Daus = tiraDaus()\n",
    "    print(Daus)\n",
    "    credit = aposta(credit,Daus)\n",
    "    #resp = raw_input(\"Vols tornar a jugar?\" )\n",
    "    resp = input(\"Vols tornar a jugar?\" )\n",
    "    print(resp)\n",
    "    if (resp == \"no\"):\n",
    "        break\n",
    "        "
   ]
  },
  {
   "cell_type": "markdown",
   "metadata": {},
   "source": [
    "Volem ara tenir una idea mes clara de quines són les apostes més segures i per això fem una mica d'estadística tirant el dau 10000 vegades. Feu una funció que obtingui el resultat de la suma dels dos daus 10000 vagades i vagi acumulant el resultat en una llista on la posició  representa el resultat de la jugada. Per exemple, si hem tirat 5 vegades i ha sortit 3,5,8,12,5 tindrem Hist = [0,0,0,1,0,2,0,0,1,0,0,0,1]"
   ]
  },
  {
   "cell_type": "code",
   "execution_count": 2,
   "metadata": {
    "collapsed": false
   },
   "outputs": [
    {
     "name": "stdout",
     "output_type": "stream",
     "text": [
      "[0, 0, 27951, 55797, 83692, 111022, 138951, 166148, 138750, 110897, 83831, 55462, 27499]\n"
     ]
    }
   ],
   "source": [
    "def histograma(N):\n",
    "    Histograma = [0,0,0,0,0,0,0,0,0,0,0,0,0]\n",
    "    for n in range(N):\n",
    "        Daus = tiraDaus()\n",
    "        Histograma[Daus]=Histograma[Daus]+1\n",
    "    return Histograma\n",
    "\n",
    "\n",
    "N= 1000000\n",
    "stat = histograma(N)\n",
    "print(stat)"
   ]
  },
  {
   "cell_type": "code",
   "execution_count": null,
   "metadata": {
    "collapsed": true
   },
   "outputs": [],
   "source": []
  }
 ],
 "metadata": {
  "kernelspec": {
   "display_name": "Python 3",
   "language": "python",
   "name": "python3"
  },
  "language_info": {
   "codemirror_mode": {
    "name": "ipython",
    "version": 3
   },
   "file_extension": ".py",
   "mimetype": "text/x-python",
   "name": "python",
   "nbconvert_exporter": "python",
   "pygments_lexer": "ipython3",
   "version": "3.5.0"
  }
 },
 "nbformat": 4,
 "nbformat_minor": 0
}
