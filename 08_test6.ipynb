{
 "cells": [
  {
   "cell_type": "markdown",
   "metadata": {},
   "source": [
    "## Análisis Estadístico\n",
    "\n",
    "El análisis estadístico de una muestra de datos nos permite resumir el comportamiento de una muestra de datos $\\{x_{1},...,x_{n}\\}$ con un pequeño números de parámetros, como por ejemplo la __media__:\n",
    "\n",
    "$$\\overline{x} = \\frac{1}{n}\\sum_{i=1}^{n} x_{i} $$ \n",
    "\n",
    "y la __desviación estándard__:\n",
    "\n",
    "$$ \\sigma(x)^2 = \\frac{1}{n}\\sum_{i=1}^{n} (x_{i}-\\overline{x})^2 $$\n",
    "\n",
    "\n",
    "__1)__ Escribe una función `media(datos)` que calcule la media de una lista de números.\n",
    "\n",
    "__2)__ Escribe una función `desviacion(datos)` que calcule la desviación estándard de una lista de números.\n",
    "\n",
    "__3)__ Usando los métodos __`radint(a,b)`__, __`uniform(a,b)`__ y __`gauss(mu,sigma)`__ del módulo __`random`__ crea tres funciones que devuelvan tres listas, con cien mil (100000) números aleatorios cada uno, correspondientes a:\n",
    "\n",
    "- tiradas de una dado de 6 caras.\n",
    "- números reales uniformemente distribuidos entre 0 y 1.\n",
    "- números reales siguiendo una distribución Gaussiana con media (`mu`) y desviación estándard (`sigma`) iguales a 1.\n",
    "\n",
    "__4)__ Usa las funciones de los apartados __1)__ y __2)__ para calcular la media y la desviación estándard de las listas producidas en el apartado __3)__. Escribe el resultado con 4 cifras decimales.\n"
   ]
  },
  {
   "cell_type": "code",
   "execution_count": 1,
   "metadata": {
    "collapsed": false
   },
   "outputs": [
    {
     "name": "stdout",
     "output_type": "stream",
     "text": [
      "Dado de 6 caras\n",
      "  Media: 3.502\n",
      "  Desviación estándard: 2.915\n",
      "Distribución uniforme\n",
      "  Media: 0.500\n",
      "  Desviación estándard: 0.084\n",
      "Distribución Gaussiana\n",
      "  Media: 1.001\n",
      "  Desviación estándard: 0.999\n"
     ]
    }
   ],
   "source": [
    "import random\n",
    "\n",
    "def media(datos):\n",
    "    return sum(datos)/len(datos)\n",
    "\n",
    "def desviacion(datos):\n",
    "    m = media(datos)\n",
    "    return sum([(d-m)**2 for d in datos])/len(datos)\n",
    "\n",
    "def dado(N):\n",
    "    return [random.randint(1,6) for i in range(N)]\n",
    "\n",
    "def uniform(N):\n",
    "    return [random.uniform(0,1) for i in range(N)]\n",
    "\n",
    "def gauss(N):\n",
    "    return [random.gauss(1,1) for i in range(N)]\n",
    "\n",
    "N = 100000\n",
    "\n",
    "d = dado(N)\n",
    "u = uniform(N)\n",
    "g = gauss(N)\n",
    "\n",
    "dm = media(d)\n",
    "um = media(u)\n",
    "gm = media(g)\n",
    "\n",
    "dde = desviacion(d)\n",
    "ude = desviacion(u)\n",
    "gde = desviacion(g)\n",
    "\n",
    "print('Dado de 6 caras')\n",
    "print('  Media: {:.3f}\\n  Desviación estándard: {:.3f}'.format(dm, dde))\n",
    "print('Distribución uniforme')\n",
    "print('  Media: {:.3f}\\n  Desviación estándard: {:.3f}'.format(um, ude))\n",
    "print('Distribución Gaussiana')\n",
    "print('  Media: {:.3f}\\n  Desviación estándard: {:.3f}'.format(gm, gde))\n"
   ]
  },
  {
   "cell_type": "code",
   "execution_count": null,
   "metadata": {
    "collapsed": true
   },
   "outputs": [],
   "source": []
  }
 ],
 "metadata": {
  "kernelspec": {
   "display_name": "Python 3",
   "language": "python",
   "name": "python3"
  },
  "language_info": {
   "codemirror_mode": {
    "name": "ipython",
    "version": 3
   },
   "file_extension": ".py",
   "mimetype": "text/x-python",
   "name": "python",
   "nbconvert_exporter": "python",
   "pygments_lexer": "ipython3",
   "version": "3.5.0"
  }
 },
 "nbformat": 4,
 "nbformat_minor": 0
}
