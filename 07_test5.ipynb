{
 "cells": [
  {
   "cell_type": "markdown",
   "metadata": {},
   "source": [
    "## Proposta Test d'Informàtica (Oriol Blázquez)"
   ]
  },
  {
   "cell_type": "markdown",
   "metadata": {},
   "source": [
    "El Sèrie de Fibonacci és una de les més conegudes. Partint de que el primer element és el 0 i el segon és el 1, cada nou element s'aconsegueix sumant els dos anteriors. _Ex: 0, 1, 1, 2, 3, 5, 8, ..._"
   ]
  },
  {
   "cell_type": "markdown",
   "metadata": {
    "collapsed": true
   },
   "source": [
    "### **Exercici 1:**\n",
    "\n",
    "Creeu una funció que retorni el número de Fibonacci corresponent a la posició n dins la sèrie. Considereu la posició 0 com a primer element (n=0)."
   ]
  },
  {
   "cell_type": "code",
   "execution_count": 1,
   "metadata": {
    "collapsed": false
   },
   "outputs": [],
   "source": [
    "def fibonacci_num(n):\n",
    "    n = int(n)\n",
    "    a,b = 0,1\n",
    "    for i in range(n):\n",
    "        a,b = b,a+b\n",
    "    return a"
   ]
  },
  {
   "cell_type": "code",
   "execution_count": 2,
   "metadata": {
    "collapsed": false
   },
   "outputs": [
    {
     "data": {
      "text/plain": [
       "12586269025"
      ]
     },
     "execution_count": 2,
     "metadata": {},
     "output_type": "execute_result"
    }
   ],
   "source": [
    "fibonacci_num(50)"
   ]
  },
  {
   "cell_type": "markdown",
   "metadata": {},
   "source": [
    "### **Exercici 2:**\n",
    "\n",
    "Utilitzant la funció anterior, creeu una nova funció que retorni la llista dels n primers números de Fibonacci."
   ]
  },
  {
   "cell_type": "code",
   "execution_count": 3,
   "metadata": {
    "collapsed": true
   },
   "outputs": [],
   "source": [
    "def fibonacci_list(n):\n",
    "    i = 0\n",
    "    while (i < n):\n",
    "        fibonacci_num(i)\n",
    "        print(fibonacci_num(i))\n",
    "        i = i+1"
   ]
  },
  {
   "cell_type": "code",
   "execution_count": 4,
   "metadata": {
    "collapsed": false,
    "scrolled": false
   },
   "outputs": [
    {
     "name": "stdout",
     "output_type": "stream",
     "text": [
      "0\n",
      "1\n",
      "1\n",
      "2\n",
      "3\n",
      "5\n",
      "8\n",
      "13\n",
      "21\n",
      "34\n",
      "55\n",
      "89\n",
      "144\n",
      "233\n",
      "377\n"
     ]
    }
   ],
   "source": [
    "fibonacci_list(15)"
   ]
  },
  {
   "cell_type": "markdown",
   "metadata": {},
   "source": [
    "### **Exercici 3:**\n",
    "\n",
    "Feu un programa que analitzi si un número enter és un número de Fibonacci o no. El programa ha de complir:\n",
    "\n",
    "* El valor s'ha de demanar per pantalla.\n",
    "* S'ha de retornar una frase on indiqui el valor introduït i si és Número de Fibonacci o no."
   ]
  },
  {
   "cell_type": "code",
   "execution_count": 6,
   "metadata": {
    "collapsed": false
   },
   "outputs": [
    {
     "name": "stdout",
     "output_type": "stream",
     "text": [
      "Introdueix el número: 234\n",
      "El número  234  no és de la Sèrie de Fibonacci.\n"
     ]
    }
   ],
   "source": [
    "number = int(input('Introdueix el número: '))\n",
    "i = 0\n",
    "while (fibonacci_num(i) <= number):\n",
    "    if (number == fibonacci_num(i)):\n",
    "        print('El número ', number, ' és de la Sèrie de Fibonacci.')\n",
    "    i = i+1\n",
    "\n",
    "if (fibonacci_num(i-1) != number):\n",
    "    print('El número ', number, ' no és de la Sèrie de Fibonacci.')"
   ]
  },
  {
   "cell_type": "markdown",
   "metadata": {},
   "source": [
    "### **Exercici 4:**\n",
    "\n",
    "Aquesta sèrie es pot observar en molts llocs de la naturalesa. Un exemple clàssic és el Cargol de Nautilus. Dibuixeu amb Turtle aquest cargol amb les següents característiques:\n",
    "\n",
    "* El radi de la closca segueix la Sèrie de Fibonacci cada 90º.\n",
    "* La finestra ha de tenir una mida de 900x600.\n",
    "* Utilitzeu alguna de les funcions creades anteriorment.\n",
    "* Feu ús només dels 15 primers números de Fibonacci per evitar que sigui massa gran.\n"
   ]
  },
  {
   "cell_type": "code",
   "execution_count": null,
   "metadata": {
    "collapsed": false
   },
   "outputs": [],
   "source": [
    "import turtle\n",
    "\n",
    "wn = turtle.Screen()\n",
    "wn.setup(900, 600)\n",
    "tortuga = turtle.Turtle()\n",
    "j = 0\n",
    "while (j < 15):\n",
    "    tortuga.circle(fibonacci_num(j),90)\n",
    "    j = j+1\n",
    "    \n",
    "wn.exitonclick()"
   ]
  },
  {
   "cell_type": "code",
   "execution_count": null,
   "metadata": {
    "collapsed": true
   },
   "outputs": [],
   "source": []
  }
 ],
 "metadata": {
  "kernelspec": {
   "display_name": "Python 3",
   "language": "python",
   "name": "python3"
  },
  "language_info": {
   "codemirror_mode": {
    "name": "ipython",
    "version": 3
   },
   "file_extension": ".py",
   "mimetype": "text/x-python",
   "name": "python",
   "nbconvert_exporter": "python",
   "pygments_lexer": "ipython3",
   "version": "3.5.0"
  }
 },
 "nbformat": 4,
 "nbformat_minor": 0
}
