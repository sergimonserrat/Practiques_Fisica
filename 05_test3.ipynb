{
 "cells": [
  {
   "cell_type": "code",
   "execution_count": 3,
   "metadata": {
    "collapsed": false
   },
   "outputs": [
    {
     "name": "stdout",
     "output_type": "stream",
     "text": [
      "Minim interval: 0\n",
      "Maxim interval: 10\n",
      "Nombre d'intèrvals: 10\n",
      "Nombre de repeticions: 200\n",
      "1.0\n"
     ]
    }
   ],
   "source": [
    "import random\n",
    "\n",
    "minim = int(input(\"Minim interval: \"))\n",
    "maxim = int(input(\"Maxim interval: \"))\n",
    "n_intervals = int(input(\"Nombre d'intèrvals: \"))\n",
    "num_repeticions = int(input(\"Nombre de repeticions: \"))\n",
    "resol = (maxim-minim)/n_intervals\n",
    "print(resol)\n"
   ]
  },
  {
   "cell_type": "code",
   "execution_count": 4,
   "metadata": {
    "collapsed": false
   },
   "outputs": [
    {
     "name": "stdout",
     "output_type": "stream",
     "text": [
      "Minim interval: 0\n",
      "Maxim interval: 10\n",
      "Nombre d'intèrvals: 10\n",
      "Nombre de repeticions: 200\n",
      "1.0\n",
      "[0, 1, 2, 3, 4, 5, 6, 7, 8, 9]\n"
     ]
    }
   ],
   "source": [
    "import random\n",
    "\n",
    "minim = int(input(\"Minim interval: \"))\n",
    "maxim = int(input(\"Maxim interval: \"))\n",
    "n_intervals = int(input(\"Nombre d'intèrvals: \"))\n",
    "num_repeticions = int(input(\"Nombre de repeticions: \"))\n",
    "resol = (maxim-minim)/n_intervals\n",
    "print(resol)\n",
    "\n",
    "def gen_intervals(minim, maxim, n):\n",
    "    pas=int((maxim-minim)/n)\n",
    "    return range(minim, maxim, pas)\n",
    "    \n",
    "llista=list(gen_intervals(minim, maxim, n_intervals))\n",
    "print(llista)\n",
    "\n",
    "#p=0    \n",
    "#while p<maxim:\n",
    "#    print(p)\n",
    "#    p=p+resol"
   ]
  },
  {
   "cell_type": "code",
   "execution_count": 5,
   "metadata": {
    "collapsed": false
   },
   "outputs": [
    {
     "name": "stdout",
     "output_type": "stream",
     "text": [
      "Minim interval: 0\n",
      "Maxim interval: 10\n",
      "Nombre d'intèrvals: 10\n",
      "Nombre de repeticions: 200\n",
      "1.0\n",
      "[0, 1, 2, 3, 4, 5, 6, 7, 8, 9]\n",
      "[0, 0, 0, 0, 0, 0, 0, 0, 0, 0]\n"
     ]
    }
   ],
   "source": [
    "import random\n",
    "\n",
    "minim = int(input(\"Minim interval: \"))\n",
    "maxim = int(input(\"Maxim interval: \"))\n",
    "n_intervals = int(input(\"Nombre d'intèrvals: \"))\n",
    "num_repeticions = int(input(\"Nombre de repeticions: \"))\n",
    "resol = (maxim-minim)/n_intervals\n",
    "print(resol)\n",
    "\n",
    "def gen_intervals(minim, maxim, n):\n",
    "    pas=int((maxim-minim)/n)\n",
    "    return range(minim, maxim, pas)\n",
    "    \n",
    "llista=list(gen_intervals(minim, maxim, n_intervals))\n",
    "print(llista)\n",
    "\n",
    "comptes_z = [0] * n_intervals\n",
    "print(comptes_z)\n"
   ]
  },
  {
   "cell_type": "code",
   "execution_count": 6,
   "metadata": {
    "collapsed": false
   },
   "outputs": [
    {
     "name": "stdout",
     "output_type": "stream",
     "text": [
      "Minim interval: 0\n",
      "Maxim interval: 10\n",
      "Nombre d'intèrvals: 10\n",
      "Nombre de repeticions: 200\n",
      "1.0\n",
      "[0, 1, 2, 3, 4, 5, 6, 7, 8, 9]\n",
      "[0, 0, 0, 0, 0, 0, 0, 0, 0, 0]\n",
      "[13, 25, 21, 29, 16, 20, 22, 15, 21, 18]\n"
     ]
    }
   ],
   "source": [
    "import random\n",
    "\n",
    "minim = int(input(\"Minim interval: \"))\n",
    "maxim = int(input(\"Maxim interval: \"))\n",
    "n_intervals = int(input(\"Nombre d'intèrvals: \"))\n",
    "num_repeticions = int(input(\"Nombre de repeticions: \"))\n",
    "resol = (maxim-minim)/n_intervals\n",
    "print(resol)\n",
    "\n",
    "def gen_intervals(minim, maxim, n):\n",
    "    pas=int((maxim-minim)/n)\n",
    "    return range(minim, maxim, pas)\n",
    "    \n",
    "llista=list(gen_intervals(minim, maxim, n_intervals))\n",
    "print(llista)\n",
    "\n",
    "comptes_z = [0] * n_intervals\n",
    "print(comptes_z)\n",
    "\n",
    "nombre=0\n",
    "comptes=[0]*n_intervals\n",
    "\n",
    "while (nombre < num_repeticions):\n",
    "    index = int((random.random()*n_intervals-minim)/resol)\n",
    "    comptes [index] += 1\n",
    "    nombre += 1\n",
    "\n",
    "print(comptes)"
   ]
  },
  {
   "cell_type": "code",
   "execution_count": 7,
   "metadata": {
    "collapsed": false
   },
   "outputs": [
    {
     "name": "stdout",
     "output_type": "stream",
     "text": [
      "Minim interval: 0\n",
      "Maxim interval: 10\n",
      "Nombre d'intèrvals: 10\n",
      "Nombre de repeticions: 200\n",
      "1.0\n",
      "[0, 1, 2, 3, 4, 5, 6, 7, 8, 9]\n",
      "[0, 0, 0, 0, 0, 0, 0, 0, 0, 0]\n",
      "[0, 0, 10, 26, 67, 64, 27, 6, 0, 0]\n"
     ]
    }
   ],
   "source": [
    "import random\n",
    "\n",
    "minim = int(input(\"Minim interval: \"))\n",
    "maxim = int(input(\"Maxim interval: \"))\n",
    "n_intervals = int(input(\"Nombre d'intèrvals: \"))\n",
    "num_repeticions = int(input(\"Nombre de repeticions: \"))\n",
    "resol = (maxim-minim)/n_intervals\n",
    "print(resol)\n",
    "\n",
    "def gen_intervals(minim, maxim, n):\n",
    "    pas=int((maxim-minim)/n)\n",
    "    return range(minim, maxim, pas)\n",
    "    \n",
    "llista=list(gen_intervals(minim, maxim, n_intervals))\n",
    "print(llista)\n",
    "\n",
    "comptes_z = [0] * n_intervals\n",
    "print(comptes_z)\n",
    "\n",
    "nombre=0\n",
    "comptes=[0]*n_intervals\n",
    "mu=(maxim-minim)/2\n",
    "sigma=(n_intervals)/10\n",
    "\n",
    "while (nombre < num_repeticions):\n",
    "    index = int((random.gauss(mu, sigma)-minim)/resol)\n",
    "    comptes [index] += 1\n",
    "    nombre += 1\n",
    "\n",
    "print(comptes)"
   ]
  },
  {
   "cell_type": "code",
   "execution_count": 1,
   "metadata": {
    "collapsed": false
   },
   "outputs": [
    {
     "name": "stdout",
     "output_type": "stream",
     "text": [
      "Minim interval: 0\n",
      "Maxim interval: 10\n",
      "Nombre d'intèrvals: 10\n",
      "Nombre de repeticions: 200\n",
      "1.0\n",
      "[0, 1, 2, 3, 4, 5, 6, 7, 8, 9]\n",
      "[0, 0, 0, 0, 0, 0, 0, 0, 0, 0]\n",
      "[20, 24, 21, 28, 21, 21, 10, 19, 19, 17]\n"
     ]
    }
   ],
   "source": [
    "import turtle\n",
    "import random\n",
    "finestra = turtle.Screen()\n",
    "finestra.screensize(10000, 10000)\n",
    "t = turtle.Turtle()\n",
    "t.speed(0)\n",
    "t.penup()\n",
    "# Seleccionem un cercle petit per fer les marques\n",
    "t.shape(\"circle\")\n",
    "t.shapesize(0.25,0.25)\n",
    "def rectangle(tortuga, amplada, alçada, posicio_x):\n",
    "    tortuga.penup()\n",
    "    tortuga.goto(x=posicio_x, y=-200)\n",
    "    tortuga.pendown()\n",
    "    tortuga.forward(amplada)\n",
    "    tortuga.left(90)\n",
    "    tortuga.forward(alçada)\n",
    "    tortuga.left(90)\n",
    "    tortuga.forward(amplada)\n",
    "    tortuga.left(90)\n",
    "    tortuga.forward(alçada)\n",
    "    tortuga.setheading(0)\n",
    "\n",
    "import random\n",
    "\n",
    "minim = int(input(\"Minim interval: \"))\n",
    "maxim = int(input(\"Maxim interval: \"))\n",
    "n_intervals = int(input(\"Nombre d'intèrvals: \"))\n",
    "num_repeticions = int(input(\"Nombre de repeticions: \"))\n",
    "resol = (maxim-minim)/n_intervals\n",
    "print(resol)\n",
    "\n",
    "def gen_intervals(minim, maxim, n):\n",
    "    pas=int((maxim-minim)/n)\n",
    "    return range(minim, maxim, pas)\n",
    "    \n",
    "llista=list(gen_intervals(minim, maxim, n_intervals))\n",
    "print(llista)\n",
    "\n",
    "comptes_z = [0] * n_intervals\n",
    "print(comptes_z)\n",
    "\n",
    "nombre=0\n",
    "comptes=[0]*n_intervals\n",
    "mu=(maxim-minim)/2\n",
    "sigma=(n_intervals)/10\n",
    "\n",
    "while (nombre < num_repeticions):\n",
    "    index = int((random.random()*n_intervals-minim)/resol)\n",
    "    #index = int((random.gauss(mu, sigma)-minim)/resol)\n",
    "    comptes [index] += 1\n",
    "    nombre += 1\n",
    "\n",
    "print(comptes)\n",
    "\n",
    "\n",
    "for i, compte in enumerate(comptes):\n",
    "    rectangle(t, resol*10, 5*compte, 10*llista[i])\n",
    "    \n",
    "finestra.exitonclick()"
   ]
  },
  {
   "cell_type": "code",
   "execution_count": null,
   "metadata": {
    "collapsed": true
   },
   "outputs": [],
   "source": []
  }
 ],
 "metadata": {
  "kernelspec": {
   "display_name": "Python 3",
   "language": "python",
   "name": "python3"
  },
  "language_info": {
   "codemirror_mode": {
    "name": "ipython",
    "version": 3
   },
   "file_extension": ".py",
   "mimetype": "text/x-python",
   "name": "python",
   "nbconvert_exporter": "python",
   "pygments_lexer": "ipython3",
   "version": "3.5.0"
  }
 },
 "nbformat": 4,
 "nbformat_minor": 0
}
