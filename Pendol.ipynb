{
 "cells": [
  {
   "cell_type": "code",
   "execution_count": 1,
   "metadata": {
    "collapsed": true
   },
   "outputs": [],
   "source": [
    "import math as m"
   ]
  },
  {
   "cell_type": "code",
   "execution_count": 3,
   "metadata": {
    "collapsed": true
   },
   "outputs": [],
   "source": [
    "def pendol(g,l,x):\n",
    "    a=-g/l*m.sin(x)\n",
    "    return a"
   ]
  },
  {
   "cell_type": "code",
   "execution_count": 4,
   "metadata": {
    "collapsed": false
   },
   "outputs": [],
   "source": [
    "def Euler_simple(h):\n",
    "    phi2=phi1+h*psi1\n",
    "    psi2=psi1+h*pendol(g,l,x)\n",
    "    solucio=[phi2,psi2]\n",
    "    return solucio"
   ]
  },
  {
   "cell_type": "code",
   "execution_count": null,
   "metadata": {
    "collapsed": true
   },
   "outputs": [],
   "source": [
    "def Euler_modificat(velocitat,angle,h):\n",
    "    veltheta=velocitat+h*pendol(g,l,x+(h/2))\n",
    "    theta=angle+h*(velocitat+(h/2)*pendol(g,l,x)\n",
    "    solucio=[theta,veltheta]\n",
    "    return solucio"
   ]
  }
 ],
 "metadata": {
  "kernelspec": {
   "display_name": "Python 3",
   "language": "python",
   "name": "python3"
  },
  "language_info": {
   "codemirror_mode": {
    "name": "ipython",
    "version": 3
   },
   "file_extension": ".py",
   "mimetype": "text/x-python",
   "name": "python",
   "nbconvert_exporter": "python",
   "pygments_lexer": "ipython3",
   "version": "3.4.3"
  }
 },
 "nbformat": 4,
 "nbformat_minor": 0
}
