{
 "cells": [
  {
   "cell_type": "markdown",
   "metadata": {},
   "source": [
    "# Examen M2A novembre 2015\n",
    "\n",
    "## Càlcul de l'area del cercle per Monte Carlo\n",
    "\n",
    "Els mètodes de Monte Carlo usen números aleatoris per aproximar expressions matemàtiques complexes i costoses d'avaluar amb exactitud. Usarem aquest mètode per a estimar l'area d'un cercle mitjançant el procediment següent:\n",
    "\n",
    "* Generem `N` parells de números aleatoris en l'intèrval (-1,1). Prenent aquests números com a coordenades en el pla $(x,y)$ trobem que es tracta de punts situats dins un quadrat de costat 2 centrat a l'origen. L'àrea d'aquest quadrat és $A_q=4$.\n",
    "* Comptem el número d'aquests punts $N_{dins}$ que estan a una distancia de l'origen menor que 1. Aquests punts estaran situats dins d'un cercle de radi 1 centrat en l'origen. L'àrea d'aquest cercle és $A_c=\\pi$.\n",
    "* La proporció entre el número de punts dins del cercle $N_{in}$ i el número de punts totals $N$ serà la mateixa que la proporció entre les arees: $\\frac{N_{in}}{N} \\simeq \\frac{A_c}{A_q} = \\frac{\\pi}{4}$\n",
    "\n",
    "\n",
    "### Exercici 1\n",
    "\n",
    "Partint d'aquest concepte feu un programa amb les següents especificacions:\n",
    "\n",
    "1. Ha de demanar per teclat el número $N$ de parells a generar\n",
    "2. Ha d'implementar una funció anomenada `dins(x,y)` que comprovi si un punt donat està dins del cercle de radi unitat. Si està dins ha de retornar `True` i en cas contrari ha de retornar `False`.\n",
    "2. Ha d'implementar una funció `monte_carlo(N)` que generi $N$ parells i compti els que estan dins del cercle de radi unitat (usant la funció anterior). La funció ha de retornar aquest número $N_{in}$\n",
    "3. El programa ha d'acabar imprimint per pantalla $4 \\frac{N_{in}}{N}$\n",
    "\n",
    "Executeu el programa per a valors creixents de $N$ i comproveu que el resultat tendeix a $\\pi$"
   ]
  },
  {
   "cell_type": "code",
   "execution_count": 52,
   "metadata": {
    "collapsed": false
   },
   "outputs": [
    {
     "name": "stdout",
     "output_type": "stream",
     "text": [
      "Doneu el número de punts a generar: 1000000\n",
      "Amb 1000000 punts el resultat és: 3.142624\n"
     ]
    }
   ],
   "source": [
    "import random\n",
    "import math\n",
    "\n",
    "def dins(x,y):\n",
    "    \"\"\"Funció que comprova si un punt (x,y) està dins del cercle\n",
    "       de radi unitat. Retorna True en cas afirmatiu i False en\n",
    "       cas contrari\"\"\"\n",
    "    if math.sqrt(x*x+y*y)<1:\n",
    "        return True\n",
    "    else:\n",
    "        return False\n",
    "    \n",
    "def monte_carlo(N):\n",
    "    \"\"\"Funció que implementa l'algorisme de Monte-Carlo. Genera\n",
    "       N coordenades (x,y) i compta les que verifiquen el criteri\n",
    "       dins(x,y). Retorna el número total de punts que verifiquen\n",
    "       el criteri.\"\"\"\n",
    "    Nin=0\n",
    "    \n",
    "    for i in range(N):\n",
    "        x= random.uniform(-1.,1.)\n",
    "        y= random.uniform(-1.,1.)\n",
    "        if dins(x,y):\n",
    "            Nin= Nin+1\n",
    "            \n",
    "    return Nin\n",
    "            \n",
    "# Fem la prova de l'algorisme imprimint el resultat \n",
    "# (ha de tendir a pi quan N creix)\n",
    "N= int(input(\"Doneu el número de punts a generar: \"))\n",
    "print(\"Amb %d punts el resultat és: %f\" % (N,4.*monte_carlo(N)/N))"
   ]
  },
  {
   "cell_type": "markdown",
   "metadata": {},
   "source": [
    "### Exercici 2\n",
    "\n",
    "Modifiqueu el programa anterior per què faci una representació gràfica del procés usant el mòdul `Turtle`:\n",
    "\n",
    "1. El programa ha de crear una finestra de treball de mida 500x500\n",
    "2. Ha de dibuixar a la finestra un cercle de radi R=200 i un quadrat de costat 400, ambdós centrats a l'origen i de color verd\n",
    "3. Modifiqueu la funció `dins()` de manera que el radi del cercle a comprovar no sigui sempre 1 sinó que es pugui fixar al cridar-la\n",
    "4. Modifiqueu la funció `monte_carlo()` de manera rebi adicionalment un valor del radi $R$ i generi els punts dins el quadrat que inscriu el cercle: $-R \\leq x,y \\leq R$. A més ha de rebre una tortuga i amb ella ha de marcar els punts generats de forma que:\n",
    "    1. Quan el punt generat estigui dins del cercle de radi $R$ quedi marcat en vermell\n",
    "    2. Si el punt està fora quedi marcat en negre.\n",
    "    \n",
    "Cridant la funció `monte_carlo()` amb $R=200$ el resultat de l'execució del programa ha de ser similar al de la figura següent."
   ]
  },
  {
   "cell_type": "code",
   "execution_count": 65,
   "metadata": {
    "collapsed": true
   },
   "outputs": [],
   "source": [
    "import turtle                \n",
    "\n",
    "def dins(x,y, r=1):\n",
    "    \"\"\"Funció que comprova si un punt (x,y) està dins del cercle\n",
    "       de radi r. Per defecte el valor de r és 1. Retorna True en \n",
    "       cas afirmatiu i False en cas contrari\"\"\"\n",
    "    if math.sqrt(x*x+y*y)<r:\n",
    "        return True\n",
    "    else:\n",
    "        return False\n",
    "    \n",
    "def monte_carlo(N, t, r=1):\n",
    "    \"\"\"Funció que implementa l'algorisme de Monte-Carlo. Genera\n",
    "       N coordenades (x,y) i compta les que verifiquen el criteri\n",
    "       dins(x,y,r). Retorna el número total de punts que verifiquen\n",
    "       el criteri. Reb també una tortuga com a argument i la usa\n",
    "       per a marcar els punts generats.\"\"\"\n",
    "    \n",
    "    Nin=0\n",
    "    \n",
    "    t.penup()\n",
    "    \n",
    "    # Seleccionem un cercle petit per fer les marques\n",
    "    t.shape(\"circle\")\n",
    "    t.shapesize(0.25,0.25)\n",
    "    \n",
    "    for i in range(N):\n",
    "        # Generem punts dins el quadrat de mida donada\n",
    "        x= random.uniform(-r,r)\n",
    "        y= random.uniform(-r,r)\n",
    "        \n",
    "        # Comprovem si estan a dins i marquem del color que toqui\n",
    "        if dins(x,y,r):\n",
    "            Nin= Nin+1\n",
    "            t.color(\"red\")    \n",
    "        else:\n",
    "            t.color(\"black\")\n",
    "            \n",
    "        # Fem la marca en el punt donatg\n",
    "        t.goto(x,y)\n",
    "        t.stamp()\n",
    "            \n",
    "    return Nin    \n",
    "    \n",
    "# Fixem el radi de treball i inicialitzem turtle\n",
    "Radi= 200\n",
    "finestra = turtle.Screen()           \n",
    "finestra.screensize(500,500)\n",
    "t = turtle.Turtle() \n",
    "t.speed(0)\n",
    "t.color(\"green\")\n",
    "\n",
    "# Traçem el cercle de referència\n",
    "t.penup()\n",
    "t.goto(0,-Radi)\n",
    "t.pendown()\n",
    "t.circle(Radi)\n",
    "\n",
    "# Traçem el quadrat de referència\n",
    "t.penup()\n",
    "t.goto(-Radi,-Radi)\n",
    "t.pendown()\n",
    "t.goto(Radi,-Radi)\n",
    "t.goto(Radi,Radi)\n",
    "t.goto(-Radi,Radi)\n",
    "t.goto(-Radi,-Radi)\n",
    "\n",
    "\n",
    "# Provem la funció monte_carlo()\n",
    "N= 100\n",
    "Nin= monte_carlo(N,t,Radi)\n",
    "\n",
    "# Escrivim el resultat a la finestra\n",
    "t.goto(0,Radi*1.1)\n",
    "t.write(\"Estimació de pi: \"+str(4.*Nin/N),font=(\"Arial\", 14, \"normal\"))\n",
    "\n",
    "finestra.exitonclick()"
   ]
  },
  {
   "cell_type": "markdown",
   "metadata": {},
   "source": [
    "**Ajuda:** les funcions de turtle que necessiteu són les següents\n",
    "\n",
    "* `f = turtle.Screen()`  crea la finestra\n",
    "* `f = screensize(mx,my)` fixa les mides de la finestra\n",
    "* `t = turtle.Turtle()` crea una tortuga \n",
    "* `t.color(nom_color)` fixa el color de la tortuga\n",
    "* `t.goto(x,y)` mou la tortuga a la posició (x,y)\n",
    "* `t.stamp()` fa una marca en la posició de la tortuga\n",
    "* `t.circle(radi)` dibuixa un cercle\n",
    "* `t.penup()` aixeca la ploma (la tortuga no traça)\n",
    "* `t.pendown()` baixa la ploma (la tortuga traça)\n",
    "* `t.shapesize(fx,fy)` modifica les mides de la tortuga\n",
    "* `t.write(text)` escriu un text a la finestra\n",
    "\n",
    "Podeu consultar com funcionen usant l'ajuda de Jupyter:\n",
    "\n",
    "`help(nom_de_funcio)`"
   ]
  },
  {
   "cell_type": "code",
   "execution_count": null,
   "metadata": {
    "collapsed": true
   },
   "outputs": [],
   "source": []
  }
 ],
 "metadata": {
  "kernelspec": {
   "display_name": "Python 3",
   "language": "python",
   "name": "python3"
  },
  "language_info": {
   "codemirror_mode": {
    "name": "ipython",
    "version": 3
   },
   "file_extension": ".py",
   "mimetype": "text/x-python",
   "name": "python",
   "nbconvert_exporter": "python",
   "pygments_lexer": "ipython3",
   "version": "3.4.3"
  }
 },
 "nbformat": 4,
 "nbformat_minor": 0
}
