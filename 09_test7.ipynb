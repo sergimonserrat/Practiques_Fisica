{
 "cells": [
  {
   "cell_type": "markdown",
   "metadata": {},
   "source": [
    "# Proposta d'examen Novembre de 2015\n",
    "\n",
    "L'objectiu de l'examen és simular 1 milió d'estrelles, calcular quantes d'elles són visibles a ull nu des de Barcelona i des de l'observatori del Montsec. Addicionalment, es demana determinar la distància de l'estrella més propera visible des de Barcelona.\n",
    "\n",
    "## Exercici 1: Càlcul del nombre d'estrelles simulades observables a ull nu\n",
    "\n",
    "### Apartat 1.1\n",
    "\n",
    "Definiu una funció simu_estrella() que generi aleatòriament una estrella amb magnitud absoluta Mv entre -6 i 5, i a una distància r entre 50 i 200pc, i que retorni la seva magnitud absoluta Mv i la seva distància r."
   ]
  },
  {
   "cell_type": "code",
   "execution_count": 1,
   "metadata": {
    "collapsed": true
   },
   "outputs": [],
   "source": [
    "import random\n",
    "\n",
    "def simu_estrella():            # Funció per simular la magnitud absoluta i distància d'una estrella\n",
    "\n",
    "    Mv = random.uniform(-6.,5.)  # Generació random de les magnituds absolutes\n",
    "    r = random.uniform(50.,200.) # Generació random de les distàncies\n",
    "                 \n",
    "    return Mv,r"
   ]
  },
  {
   "cell_type": "markdown",
   "metadata": {},
   "source": [
    "### Apartat 1.2\n",
    "\n",
    "Definiu una funció aparent_magnitud() que, tenint com a inputs la magnitud absoluta Mv i la distància r, calculi la magnitud aparent m de l'estrella. La relació entre la magnitud aparent, la distància i la magnitud absoluta de l'estrella és la següent:\n",
    "\n",
    "$m=+Mv-5+5\\cdot \\log_{10}(r)+Av$\n",
    "\n",
    "On Av fa referència a l'extinció del medi interestel·lar que considerarem negligible (Av=0)."
   ]
  },
  {
   "cell_type": "code",
   "execution_count": 2,
   "metadata": {
    "collapsed": true
   },
   "outputs": [],
   "source": [
    "import math\n",
    "\n",
    "def aparent_magnitud(Mv,r):     # Funció per calcular la magnitud aparent d'una estrella\n",
    "    Av=0                        # Es negligeixen els efectes de l'extinció\n",
    "    m=+Mv-5+5*math.log10(r)+Av  # Es calcula la magnitud aparent de l'estrella\n",
    "    return m\n"
   ]
  },
  {
   "cell_type": "markdown",
   "metadata": {},
   "source": [
    "### Apartat 1.3\n",
    "\n",
    "Feu servir les dues funcions dels apartat anteriors per fer un programa amb les següents funcions:\n",
    "\n",
    "1- Generi N estrelles amb les magnituds i distàncies de l'apartat 1.1.\n",
    "   - El número d'estrelles N s'ha de demanar per pantalla.\n",
    "   \n",
    "2- Donada una magnitud límit, el programa ha de comptar el número d'estrelles que estan per sota de la magitud límit mlim\n",
    "   - La magnitud límit mlim s'ha de demanar per pantalla.\n",
    "    \n",
    "3- El programa ha de mostrar el resultat del número d'estrelles per sota de la magnitud límit\n"
   ]
  },
  {
   "cell_type": "code",
   "execution_count": 6,
   "metadata": {
    "collapsed": false
   },
   "outputs": [
    {
     "name": "stdout",
     "output_type": "stream",
     "text": [
      "Doneu el número d'estrelles a simular: 1000000\n",
      "Doneu la magnitud límit: 3\n",
      "333197\n"
     ]
    }
   ],
   "source": [
    "import random\n",
    "import math\n",
    "\n",
    "def simu_estrella():               # Funció per simular la magnitud absoluta i distància d'una estrella\n",
    "\n",
    "    Mv= random.uniform(-6.,5.)     # Generació random de les magnituds absolutes\n",
    "    r= random.uniform(50.,200.)    # Generació random de les distàncies\n",
    "                 \n",
    "    return Mv,r\n",
    "\n",
    "def aparent_magnitud(Mv,r):        # Funció per calcular la magnitud aparent d'una estrella\n",
    "    Av=0                           # Es negligeixen els efectes de l'extinció\n",
    "    m=+Mv-5+5*math.log10(r)+Av     # Es calcula la magnitud aparent de l'estrella\n",
    "    return m\n",
    "\n",
    "N= int(input(\"Doneu el número d'estrelles a simular: \"))   # Es demana el número d'estrelles a simular\n",
    "mlim=int(input(\"Doneu la magnitud límit: \"))               # Es demana la magnitud límit\n",
    "Nstar=0                                                    # Inicialitzem la variable Nstar\n",
    "i=0                                                        # Inicialitzem la variable i\n",
    "while (i<N):                                    # Loop per simular N estrelles\n",
    "    i=i+1\n",
    "    (Mv,r)=simu_estrella()                      # Es simula magnitud absoluta i distància a una estrella \n",
    "    m=aparent_magnitud(Mv,r)                    # Es calcula la magnitud aparent de l'estrella\n",
    "    \n",
    "    if (m<=mlim):                               # Es posa la condició de la magnitud límit\n",
    "        Nstar=Nstar+1\n",
    "    \n",
    "    \n",
    "    \n",
    "print(Nstar)                    # Es fa el print del número d'estrelles que passen el tall de magnitud límit"
   ]
  },
  {
   "cell_type": "markdown",
   "metadata": {},
   "source": [
    "### Apartat 1.4\n",
    "\n",
    "Des de Barcelona només són visibles a ull nu aquelles estrelles amb magnitud aparent m més petita que 3. Feu servir el programa de l'apartat anterior per generar 1 milió d'estrelles i donar quantes estrelles simulades serien visibles des de Barcelona.\n",
    "\n",
    "En canvi, des de l'observatori del Montsec podem veure a ull nu totes les estrelles amb magnitud aparent més petita que 6. Useu el programa de l'apartat anterior per simular 1 milió d'estrelles i donar quantes estrelles simulades serien visibles des del Montsec."
   ]
  },
  {
   "cell_type": "markdown",
   "metadata": {},
   "source": [
    "## Exercici 2: Determinació de la distància de l'estrella observable a ull nu més propera\n",
    "\n",
    "\n",
    "### Apartat 2.1 \n",
    "\n",
    "Definiu una funció dist_minim() que busqui dins una llista de valors i en retorni el mínim."
   ]
  },
  {
   "cell_type": "code",
   "execution_count": 11,
   "metadata": {
    "collapsed": false
   },
   "outputs": [],
   "source": [
    "def dist_min(llista):                                   # Funció que busca el valor mínim d'una llista\n",
    "    minim = min(llista)\n",
    "    return minim                                        # Retorn del valor mínim\n",
    "\n",
    "# Codi alternatiu:\n",
    "#\n",
    "#  minim = llista[0]\n",
    "#  for i in range(len(llista)):\n",
    "#      if llista[i] < minim:\n",
    "#          minim = llista[i]\n",
    "#  return minim"
   ]
  },
  {
   "cell_type": "markdown",
   "metadata": {},
   "source": [
    "### Apartat 2.2\n",
    "\n",
    "Completeu i modifiqueu, amb la funció dist_min(), el programa de l'apartat 1.3. per tal de saber quina es la distància de l'estrella més propera observable des de Barcelona.\n"
   ]
  },
  {
   "cell_type": "code",
   "execution_count": 5,
   "metadata": {
    "collapsed": false
   },
   "outputs": [
    {
     "name": "stdout",
     "output_type": "stream",
     "text": [
      "Doneu el número d'estrelles a simular: 1000000\n",
      "Doneu la magnitud límit: 3\n",
      "50.00024949689566\n"
     ]
    }
   ],
   "source": [
    "import random\n",
    "import math\n",
    "\n",
    "\n",
    "def simu_estrella():                  # Funció per simular la magnitud absoluta i distància d'una estrella\n",
    "\n",
    "    Mv= random.uniform(-6.,5.)        # Generació random de les magnituds absolutes\n",
    "    r= random.uniform(50.,200.)       # Generació random de les distàncies\n",
    "                 \n",
    "    return Mv,r\n",
    "\n",
    "def aparent_magnitud(Mv,r):          # Funció per calcular la magnitud aparent d'una estrella\n",
    "    Av=0                             # Es negligeixen els efectes de l'extinció\n",
    "    m=+Mv-5+5*math.log10(r)+Av       # Es calcula la magnitud aparent de l'estrella\n",
    "    return m\n",
    "\n",
    "def dist_min(llista):                                   # Funció que busca el valor mínim d'una llista\n",
    "    minim = min(llista)\n",
    "    return minim                                        # Retorn del valor mínim\n",
    "\n",
    "\n",
    "N= int(input(\"Doneu el número d'estrelles a simular: \"))    # Es demana el número d'estrelles a simular\n",
    "mlim=int(input(\"Doneu la magnitud límit: \"))                # Es demana la magnitud límit\n",
    "Nstar=0                                                     # Inicialitzem la variable Nstar\n",
    "llista_dist = []                                            # Inicialitzem la llista que contindrà les distàncies\n",
    "i=0                                                         # Inicialitzem la variable i\n",
    "while (i<N):                                     # Loop per simular N estrelles\n",
    "    i=i+1\n",
    "    (Mv,r)=simu_estrella()                       # Es simula magnitud absoluta i distància a una estrella \n",
    "    m=aparent_magnitud(Mv,r)                     # Es calcula la magnitud aparent de l'estrella\n",
    "    \n",
    "    if (m<=mlim):                                # Comprova si és visible a ull nu\n",
    "        Nstar=Nstar+1\n",
    "        llista_dist.append(r)\n",
    "            \n",
    "minim=dist_min(llista_dist)   \n",
    "    \n",
    "print(minim)        # Fem el print de la distància mínima"
   ]
  },
  {
   "cell_type": "code",
   "execution_count": null,
   "metadata": {
    "collapsed": true
   },
   "outputs": [],
   "source": []
  }
 ],
 "metadata": {
  "kernelspec": {
   "display_name": "Python 3",
   "language": "python",
   "name": "python3"
  },
  "language_info": {
   "codemirror_mode": {
    "name": "ipython",
    "version": 3
   },
   "file_extension": ".py",
   "mimetype": "text/x-python",
   "name": "python",
   "nbconvert_exporter": "python",
   "pygments_lexer": "ipython3",
   "version": "3.5.0"
  }
 },
 "nbformat": 4,
 "nbformat_minor": 0
}
